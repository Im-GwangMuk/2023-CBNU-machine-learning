{
 "cells": [
  {
   "cell_type": "code",
   "execution_count": 1,
   "id": "focal-interest",
   "metadata": {},
   "outputs": [],
   "source": [
    "# import matplotlib.font_manager as fm\n",
    "# import matplotlib.pyplot as plt\n",
    "\n",
    "# # 설치된 폰트 출력\n",
    "# font_list = [font.name for font in fm.fontManager.ttflist]\n",
    "\n",
    "# plt.rcParams['font.family'] = 'Nanum Brush Script'\n",
    "\n",
    "# plt.rcParams['font.size'] = 14"
   ]
  },
  {
   "cell_type": "code",
   "execution_count": 2,
   "id": "extensive-finder",
   "metadata": {},
   "outputs": [],
   "source": [
    "import pandas as pd"
   ]
  },
  {
   "cell_type": "code",
   "execution_count": 3,
   "id": "gentle-prevention",
   "metadata": {},
   "outputs": [],
   "source": [
    "data = pd.read_csv(\"../DAT/level_test.csv\", encoding='cp949')"
   ]
  },
  {
   "cell_type": "code",
   "execution_count": 4,
   "id": "respiratory-upset",
   "metadata": {},
   "outputs": [],
   "source": [
    "data.columns = ['level','Pandas',\"sklearn\",\"Tensorflow\",\"Numpy\",\"Matplotlib\",\"Pytorch\",\"imblearn\",\"seaborn\",\n",
    "                \"class 문제\",\"Numpy 문제\",\"Pandas 문제\",\"seaborn 문제\",\"Matplotlib 문제\",\"imblearn 문제\",\"sklearn 문제\",\"torch 문제\",\n",
    "                \"tesnor 문제\",\"배우고 싶은 내용\"]"
   ]
  }
 ],
 "metadata": {
  "kernelspec": {
   "display_name": "Python 3",
   "language": "python",
   "name": "python3"
  },
  "language_info": {
   "codemirror_mode": {
    "name": "ipython",
    "version": 3
   },
   "file_extension": ".py",
   "mimetype": "text/x-python",
   "name": "python",
   "nbconvert_exporter": "python",
   "pygments_lexer": "ipython3",
   "version": "3.7.10"
  }
 },
 "nbformat": 4,
 "nbformat_minor": 5
}
