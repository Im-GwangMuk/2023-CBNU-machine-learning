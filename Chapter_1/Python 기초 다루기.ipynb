{
 "cells": [
  {
   "cell_type": "markdown",
   "metadata": {
    "id": "0PrNi2woB1-T"
   },
   "source": [
    "## 1.1 기본 단축기"
   ]
  },
  {
   "cell_type": "markdown",
   "metadata": {
    "id": "9giaK9osB65i"
   },
   "source": [
    "- 코드 셀 위에 삽입 Ctrl + M A"
   ]
  },
  {
   "cell_type": "code",
   "execution_count": null,
   "metadata": {
    "colab": {
     "base_uri": "https://localhost:8080/"
    },
    "executionInfo": {
     "elapsed": 14,
     "status": "ok",
     "timestamp": 1647307431967,
     "user": {
      "displayName": "임광묵",
      "photoUrl": "https://lh3.googleusercontent.com/a/default-user=s64",
      "userId": "10775740267756613797"
     },
     "user_tz": -540
    },
    "id": "ShEwiJPL4nca",
    "outputId": "af892cb2-f336-4ee2-b9b7-18450c5a7368"
   },
   "outputs": [
    {
     "data": {
      "text/plain": [
       "[1, 2, 3]"
      ]
     },
     "execution_count": 2,
     "metadata": {},
     "output_type": "execute_result"
    }
   ],
   "source": []
  },
  {
   "cell_type": "code",
   "execution_count": null,
   "metadata": {
    "id": "_cI3gWvZLrh_"
   },
   "outputs": [],
   "source": []
  },
  {
   "cell_type": "markdown",
   "metadata": {
    "id": "OYWDXnEJB7XN"
   },
   "source": [
    "- 코드 셀 아래 삽입 Ctrl + M B"
   ]
  },
  {
   "cell_type": "code",
   "execution_count": null,
   "metadata": {
    "colab": {
     "base_uri": "https://localhost:8080/"
    },
    "executionInfo": {
     "elapsed": 425,
     "status": "ok",
     "timestamp": 1647307437132,
     "user": {
      "displayName": "임광묵",
      "photoUrl": "https://lh3.googleusercontent.com/a/default-user=s64",
      "userId": "10775740267756613797"
     },
     "user_tz": -540
    },
    "id": "jxIOJo4uCYeW",
    "outputId": "11ff10b3-786d-4f2f-a010-469210d1a13d"
   },
   "outputs": [
    {
     "data": {
      "text/plain": [
       "[1, 2, 3]"
      ]
     },
     "execution_count": 3,
     "metadata": {},
     "output_type": "execute_result"
    }
   ],
   "source": []
  },
  {
   "cell_type": "markdown",
   "metadata": {
    "id": "EIY1-1YlCZDC"
   },
   "source": [
    "- 셀 지우기 Ctrl + M D"
   ]
  },
  {
   "cell_type": "code",
   "execution_count": null,
   "metadata": {
    "id": "XrfT18b2CZNU"
   },
   "outputs": [],
   "source": []
  },
  {
   "cell_type": "markdown",
   "metadata": {
    "id": "j-qLd7bnCZT4"
   },
   "source": [
    "- 코드 셀로 변경 Ctrl+M Y"
   ]
  },
  {
   "cell_type": "code",
   "execution_count": null,
   "metadata": {
    "id": "LcHqkePNCZlo"
   },
   "outputs": [],
   "source": []
  },
  {
   "cell_type": "markdown",
   "metadata": {
    "id": "gGNDBzQYLPvu"
   },
   "source": [
    "- 마크다운 셀로변경 Ctrl+M M"
   ]
  },
  {
   "cell_type": "code",
   "execution_count": null,
   "metadata": {
    "id": "dwyVkujdLP7g"
   },
   "outputs": [],
   "source": []
  },
  {
   "cell_type": "markdown",
   "metadata": {
    "id": "N25DNIGbLQDK"
   },
   "source": [
    "- 실행 취소 Ctrl + M Z"
   ]
  },
  {
   "cell_type": "code",
   "execution_count": null,
   "metadata": {
    "id": "ZI-03iGWu0oN"
   },
   "outputs": [],
   "source": []
  },
  {
   "cell_type": "markdown",
   "metadata": {
    "id": "I7SDrikoGjm5"
   },
   "source": [
    "- help 문"
   ]
  },
  {
   "cell_type": "code",
   "execution_count": 3,
   "metadata": {
    "id": "ziQP2T85GumD"
   },
   "outputs": [],
   "source": [
    "a = [1,2,3]"
   ]
  },
  {
   "cell_type": "code",
   "execution_count": 4,
   "metadata": {},
   "outputs": [],
   "source": [
    "?a"
   ]
  },
  {
   "cell_type": "code",
   "execution_count": null,
   "metadata": {
    "id": "oQ3Yt3ntM0C8"
   },
   "outputs": [],
   "source": [
    "b = [1,2,3,4]"
   ]
  },
  {
   "cell_type": "markdown",
   "metadata": {
    "id": "980-yYKkGuaD"
   },
   "source": [
    "- dir()"
   ]
  },
  {
   "cell_type": "code",
   "execution_count": 5,
   "metadata": {
    "colab": {
     "base_uri": "https://localhost:8080/"
    },
    "executionInfo": {
     "elapsed": 334,
     "status": "ok",
     "timestamp": 1647307938612,
     "user": {
      "displayName": "임광묵",
      "photoUrl": "https://lh3.googleusercontent.com/a/default-user=s64",
      "userId": "10775740267756613797"
     },
     "user_tz": -540
    },
    "id": "VI9OB-raHeEH",
    "outputId": "ee3b7f2d-b520-4c4d-f81b-e24916381f0e"
   },
   "outputs": [
    {
     "data": {
      "text/plain": [
       "['__add__',\n",
       " '__class__',\n",
       " '__contains__',\n",
       " '__delattr__',\n",
       " '__delitem__',\n",
       " '__dir__',\n",
       " '__doc__',\n",
       " '__eq__',\n",
       " '__format__',\n",
       " '__ge__',\n",
       " '__getattribute__',\n",
       " '__getitem__',\n",
       " '__gt__',\n",
       " '__hash__',\n",
       " '__iadd__',\n",
       " '__imul__',\n",
       " '__init__',\n",
       " '__init_subclass__',\n",
       " '__iter__',\n",
       " '__le__',\n",
       " '__len__',\n",
       " '__lt__',\n",
       " '__mul__',\n",
       " '__ne__',\n",
       " '__new__',\n",
       " '__reduce__',\n",
       " '__reduce_ex__',\n",
       " '__repr__',\n",
       " '__reversed__',\n",
       " '__rmul__',\n",
       " '__setattr__',\n",
       " '__setitem__',\n",
       " '__sizeof__',\n",
       " '__str__',\n",
       " '__subclasshook__',\n",
       " 'append',\n",
       " 'clear',\n",
       " 'copy',\n",
       " 'count',\n",
       " 'extend',\n",
       " 'index',\n",
       " 'insert',\n",
       " 'pop',\n",
       " 'remove',\n",
       " 'reverse',\n",
       " 'sort']"
      ]
     },
     "execution_count": 5,
     "metadata": {},
     "output_type": "execute_result"
    }
   ],
   "source": [
    "dir(a)"
   ]
  },
  {
   "cell_type": "code",
   "execution_count": null,
   "metadata": {
    "id": "Vqe8-rnMNI2R"
   },
   "outputs": [],
   "source": [
    "a.append(3)"
   ]
  },
  {
   "cell_type": "markdown",
   "metadata": {
    "id": "Tm6ZhC6pu00y"
   },
   "source": [
    "# 1.2 인덱싱(Indexing), 슬라이싱(Slicing), 포매팅(formeting)"
   ]
  },
  {
   "cell_type": "markdown",
   "metadata": {
    "id": "BLJRhkK5u083"
   },
   "source": [
    "#### 인덱싱"
   ]
  },
  {
   "cell_type": "code",
   "execution_count": null,
   "metadata": {
    "id": "FNy5Xnlc-7IV"
   },
   "outputs": [],
   "source": [
    "string = 'Hello World'"
   ]
  },
  {
   "cell_type": "code",
   "execution_count": null,
   "metadata": {
    "colab": {
     "base_uri": "https://localhost:8080/",
     "height": 35
    },
    "executionInfo": {
     "elapsed": 6,
     "status": "ok",
     "timestamp": 1647308226006,
     "user": {
      "displayName": "임광묵",
      "photoUrl": "https://lh3.googleusercontent.com/a/default-user=s64",
      "userId": "10775740267756613797"
     },
     "user_tz": -540
    },
    "id": "3AnxSnE2OGYT",
    "outputId": "9af9bca7-0964-4908-e07b-786a6af0363c"
   },
   "outputs": [
    {
     "data": {
      "application/vnd.google.colaboratory.intrinsic+json": {
       "type": "string"
      },
      "text/plain": [
       "'H'"
      ]
     },
     "execution_count": 12,
     "metadata": {},
     "output_type": "execute_result"
    }
   ],
   "source": [
    "string[0]"
   ]
  },
  {
   "cell_type": "code",
   "execution_count": null,
   "metadata": {
    "colab": {
     "base_uri": "https://localhost:8080/",
     "height": 35
    },
    "executionInfo": {
     "elapsed": 394,
     "status": "ok",
     "timestamp": 1647308336329,
     "user": {
      "displayName": "임광묵",
      "photoUrl": "https://lh3.googleusercontent.com/a/default-user=s64",
      "userId": "10775740267756613797"
     },
     "user_tz": -540
    },
    "id": "l__rCN05OGkV",
    "outputId": "1b504df2-be86-427e-98a9-59f8fb441010"
   },
   "outputs": [
    {
     "data": {
      "application/vnd.google.colaboratory.intrinsic+json": {
       "type": "string"
      },
      "text/plain": [
       "' '"
      ]
     },
     "execution_count": 14,
     "metadata": {},
     "output_type": "execute_result"
    }
   ],
   "source": [
    "string[5]"
   ]
  },
  {
   "cell_type": "markdown",
   "metadata": {
    "id": "a2auURuP_W--"
   },
   "source": [
    "#### 슬라이싱"
   ]
  },
  {
   "cell_type": "code",
   "execution_count": null,
   "metadata": {
    "colab": {
     "base_uri": "https://localhost:8080/",
     "height": 35
    },
    "executionInfo": {
     "elapsed": 458,
     "status": "ok",
     "timestamp": 1647308376592,
     "user": {
      "displayName": "임광묵",
      "photoUrl": "https://lh3.googleusercontent.com/a/default-user=s64",
      "userId": "10775740267756613797"
     },
     "user_tz": -540
    },
    "id": "6NiEzCGC_gCq",
    "outputId": "1932aa1f-24e3-4c36-d878-68e3c572e982"
   },
   "outputs": [
    {
     "data": {
      "application/vnd.google.colaboratory.intrinsic+json": {
       "type": "string"
      },
      "text/plain": [
       "'Hello'"
      ]
     },
     "execution_count": 15,
     "metadata": {},
     "output_type": "execute_result"
    }
   ],
   "source": [
    "string[0:5]"
   ]
  },
  {
   "cell_type": "code",
   "execution_count": null,
   "metadata": {
    "colab": {
     "base_uri": "https://localhost:8080/"
    },
    "executionInfo": {
     "elapsed": 18,
     "status": "ok",
     "timestamp": 1647308555537,
     "user": {
      "displayName": "임광묵",
      "photoUrl": "https://lh3.googleusercontent.com/a/default-user=s64",
      "userId": "10775740267756613797"
     },
     "user_tz": -540
    },
    "id": "iyBSLCo_Pbj_",
    "outputId": "81852fff-d95c-4368-d87d-3132477c2494"
   },
   "outputs": [
    {
     "data": {
      "text/plain": [
       "4"
      ]
     },
     "execution_count": 17,
     "metadata": {},
     "output_type": "execute_result"
    }
   ],
   "source": [
    "len(b)"
   ]
  },
  {
   "cell_type": "code",
   "execution_count": null,
   "metadata": {
    "colab": {
     "base_uri": "https://localhost:8080/"
    },
    "executionInfo": {
     "elapsed": 12,
     "status": "ok",
     "timestamp": 1647308573438,
     "user": {
      "displayName": "임광묵",
      "photoUrl": "https://lh3.googleusercontent.com/a/default-user=s64",
      "userId": "10775740267756613797"
     },
     "user_tz": -540
    },
    "id": "hkcvRgAgPfgw",
    "outputId": "998aa7f2-aa4b-4cb6-a7a9-0dfe88d7344b"
   },
   "outputs": [
    {
     "data": {
      "text/plain": [
       "1"
      ]
     },
     "execution_count": 18,
     "metadata": {},
     "output_type": "execute_result"
    }
   ],
   "source": [
    "b[0]"
   ]
  },
  {
   "cell_type": "markdown",
   "metadata": {
    "id": "LFZqMGb1CEuQ"
   },
   "source": [
    "len"
   ]
  },
  {
   "cell_type": "code",
   "execution_count": null,
   "metadata": {
    "colab": {
     "base_uri": "https://localhost:8080/"
    },
    "executionInfo": {
     "elapsed": 6,
     "status": "ok",
     "timestamp": 1647308500734,
     "user": {
      "displayName": "임광묵",
      "photoUrl": "https://lh3.googleusercontent.com/a/default-user=s64",
      "userId": "10775740267756613797"
     },
     "user_tz": -540
    },
    "id": "Nm3X2CYVCG5l",
    "outputId": "de312c09-a8b4-4dc4-bfc4-7d4bb0d0f339"
   },
   "outputs": [
    {
     "data": {
      "text/plain": [
       "11"
      ]
     },
     "execution_count": 16,
     "metadata": {},
     "output_type": "execute_result"
    }
   ],
   "source": [
    "len(string)"
   ]
  },
  {
   "cell_type": "markdown",
   "metadata": {
    "id": "r0DST2_8_gVQ"
   },
   "source": [
    "#### 포매팅"
   ]
  },
  {
   "cell_type": "markdown",
   "metadata": {
    "id": "bC9QJJ8hBuLe"
   },
   "source": [
    "- %s 문자열\n",
    "- %d 정수\n",
    "- %f 실수"
   ]
  },
  {
   "cell_type": "code",
   "execution_count": null,
   "metadata": {
    "colab": {
     "base_uri": "https://localhost:8080/",
     "height": 35
    },
    "executionInfo": {
     "elapsed": 6,
     "status": "ok",
     "timestamp": 1647308766326,
     "user": {
      "displayName": "임광묵",
      "photoUrl": "https://lh3.googleusercontent.com/a/default-user=s64",
      "userId": "10775740267756613797"
     },
     "user_tz": -540
    },
    "id": "0UrMngDcQFb9",
    "outputId": "ca480990-0706-4b01-960b-8e78c6663f88"
   },
   "outputs": [
    {
     "data": {
      "application/vnd.google.colaboratory.intrinsic+json": {
       "type": "string"
      },
      "text/plain": [
       "'My name is 홍길동'"
      ]
     },
     "execution_count": 22,
     "metadata": {},
     "output_type": "execute_result"
    }
   ],
   "source": [
    "\"My name is %s\" %\"홍길동\""
   ]
  },
  {
   "cell_type": "code",
   "execution_count": null,
   "metadata": {
    "id": "z1tj9nlHQXx2"
   },
   "outputs": [],
   "source": [
    "input = ['철수','영희']"
   ]
  },
  {
   "cell_type": "code",
   "execution_count": null,
   "metadata": {
    "colab": {
     "base_uri": "https://localhost:8080/",
     "height": 35
    },
    "executionInfo": {
     "elapsed": 19,
     "status": "ok",
     "timestamp": 1647308854266,
     "user": {
      "displayName": "임광묵",
      "photoUrl": "https://lh3.googleusercontent.com/a/default-user=s64",
      "userId": "10775740267756613797"
     },
     "user_tz": -540
    },
    "id": "qQK8rKFkQgXT",
    "outputId": "aeca7ea5-f87b-4be7-aa6d-b4184a94ec8e"
   },
   "outputs": [
    {
     "data": {
      "application/vnd.google.colaboratory.intrinsic+json": {
       "type": "string"
      },
      "text/plain": [
       "'My name is 철수'"
      ]
     },
     "execution_count": 24,
     "metadata": {},
     "output_type": "execute_result"
    }
   ],
   "source": [
    "\"My name is %s\" % input[0]"
   ]
  },
  {
   "cell_type": "code",
   "execution_count": null,
   "metadata": {
    "colab": {
     "base_uri": "https://localhost:8080/"
    },
    "executionInfo": {
     "elapsed": 522,
     "status": "ok",
     "timestamp": 1647308961841,
     "user": {
      "displayName": "임광묵",
      "photoUrl": "https://lh3.googleusercontent.com/a/default-user=s64",
      "userId": "10775740267756613797"
     },
     "user_tz": -540
    },
    "id": "sEeo3glLQvMN",
    "outputId": "e5b621b0-eb5b-4634-f122-9124c098b476"
   },
   "outputs": [
    {
     "name": "stdout",
     "output_type": "stream",
     "text": [
      "나의 이름은 철수 이고 나이는 20 입니다.\n"
     ]
    }
   ],
   "source": [
    "name = '철수'\n",
    "age = 20\n",
    "print(f'나의 이름은 {name} 이고 나이는 {age} 입니다.')"
   ]
  },
  {
   "cell_type": "markdown",
   "metadata": {
    "id": "AVqE0_styoSw"
   },
   "source": [
    "# 1.3 모듈 불러오기"
   ]
  },
  {
   "cell_type": "markdown",
   "metadata": {
    "id": "yIOuCtEh0xyG"
   },
   "source": [
    "#### import 모듈"
   ]
  },
  {
   "cell_type": "markdown",
   "metadata": {
    "id": "SS6TZFY5wDxg"
   },
   "source": [
    "- 모듈.변수\n",
    "- 모듈.함수()\n",
    "- 모듈.클래스()"
   ]
  },
  {
   "cell_type": "code",
   "execution_count": null,
   "metadata": {
    "colab": {
     "base_uri": "https://localhost:8080/"
    },
    "executionInfo": {
     "elapsed": 1216,
     "status": "ok",
     "timestamp": 1647310198166,
     "user": {
      "displayName": "임광묵",
      "photoUrl": "https://lh3.googleusercontent.com/a/default-user=s64",
      "userId": "10775740267756613797"
     },
     "user_tz": -540
    },
    "id": "3cSuYf3Wx4Qs",
    "outputId": "4ec8af19-e1c2-49bf-e511-1b898a4e9e67"
   },
   "outputs": [
    {
     "data": {
      "text/plain": [
       "3.141592653589793"
      ]
     },
     "execution_count": 27,
     "metadata": {},
     "output_type": "execute_result"
    }
   ],
   "source": [
    "import math\n",
    "math.pi"
   ]
  },
  {
   "cell_type": "markdown",
   "metadata": {
    "id": "SZxq36t001wU"
   },
   "source": [
    "#### import 모듈 as 이름"
   ]
  },
  {
   "cell_type": "code",
   "execution_count": null,
   "metadata": {
    "id": "aWShEmhQvjoI"
   },
   "outputs": [],
   "source": [
    "import math as m"
   ]
  },
  {
   "cell_type": "code",
   "execution_count": null,
   "metadata": {
    "colab": {
     "base_uri": "https://localhost:8080/"
    },
    "executionInfo": {
     "elapsed": 414,
     "status": "ok",
     "timestamp": 1647310248522,
     "user": {
      "displayName": "임광묵",
      "photoUrl": "https://lh3.googleusercontent.com/a/default-user=s64",
      "userId": "10775740267756613797"
     },
     "user_tz": -540
    },
    "id": "17waRx9jV3mB",
    "outputId": "b7cd27b3-6e25-4d75-a7b8-d90dace08f47"
   },
   "outputs": [
    {
     "data": {
      "text/plain": [
       "3.141592653589793"
      ]
     },
     "execution_count": 29,
     "metadata": {},
     "output_type": "execute_result"
    }
   ],
   "source": [
    "m.pi"
   ]
  },
  {
   "cell_type": "markdown",
   "metadata": {
    "id": "24cA66RC01kG"
   },
   "source": [
    "#### from 모듈 import 변수(함수, 클래스)"
   ]
  },
  {
   "cell_type": "code",
   "execution_count": null,
   "metadata": {
    "id": "kZiyQm7uWFSG"
   },
   "outputs": [],
   "source": [
    "from math import pi"
   ]
  },
  {
   "cell_type": "code",
   "execution_count": null,
   "metadata": {
    "colab": {
     "base_uri": "https://localhost:8080/"
    },
    "executionInfo": {
     "elapsed": 511,
     "status": "ok",
     "timestamp": 1647310320924,
     "user": {
      "displayName": "임광묵",
      "photoUrl": "https://lh3.googleusercontent.com/a/default-user=s64",
      "userId": "10775740267756613797"
     },
     "user_tz": -540
    },
    "id": "ZhtudNDrvkDN",
    "outputId": "a3cd6db1-d693-416f-86b2-9e3cddbfca8d"
   },
   "outputs": [
    {
     "data": {
      "text/plain": [
       "3.141592653589793"
      ]
     },
     "execution_count": 32,
     "metadata": {},
     "output_type": "execute_result"
    }
   ],
   "source": [
    "pi"
   ]
  },
  {
   "cell_type": "markdown",
   "metadata": {
    "id": "xgqyCADQ0znT"
   },
   "source": [
    "# 1.4 튜플, 리스트와 배열(array)"
   ]
  },
  {
   "cell_type": "markdown",
   "metadata": {
    "id": "o51suA_nHqJO"
   },
   "source": [
    "#### 튜플"
   ]
  },
  {
   "cell_type": "code",
   "execution_count": 27,
   "metadata": {
    "colab": {
     "base_uri": "https://localhost:8080/",
     "height": 189
    },
    "executionInfo": {
     "elapsed": 347,
     "status": "error",
     "timestamp": 1647911458568,
     "user": {
      "displayName": "임광묵",
      "photoUrl": "https://lh3.googleusercontent.com/a/default-user=s64",
      "userId": "10775740267756613797"
     },
     "user_tz": -540
    },
    "id": "s6ZxRy7ZJVzT",
    "outputId": "8d3eab8c-3913-41ba-de7f-0cd2530f4e9d"
   },
   "outputs": [
    {
     "data": {
      "text/plain": [
       "1"
      ]
     },
     "execution_count": 27,
     "metadata": {},
     "output_type": "execute_result"
    }
   ],
   "source": [
    "tu = (1,2,3)\n",
    "tu[0]"
   ]
  },
  {
   "cell_type": "code",
   "execution_count": 26,
   "metadata": {},
   "outputs": [
    {
     "data": {
      "text/plain": [
       "(1, 2, 3)"
      ]
     },
     "execution_count": 26,
     "metadata": {},
     "output_type": "execute_result"
    }
   ],
   "source": [
    "tu"
   ]
  },
  {
   "cell_type": "markdown",
   "metadata": {
    "id": "WZ4Q9R0KJV5Y"
   },
   "source": [
    "#### 리스트"
   ]
  },
  {
   "cell_type": "code",
   "execution_count": 28,
   "metadata": {
    "id": "_fQ1pocqJWDP"
   },
   "outputs": [],
   "source": [
    "lst =[1,2,3]"
   ]
  },
  {
   "cell_type": "code",
   "execution_count": 29,
   "metadata": {
    "colab": {
     "base_uri": "https://localhost:8080/"
    },
    "executionInfo": {
     "elapsed": 9,
     "status": "ok",
     "timestamp": 1647911536375,
     "user": {
      "displayName": "임광묵",
      "photoUrl": "https://lh3.googleusercontent.com/a/default-user=s64",
      "userId": "10775740267756613797"
     },
     "user_tz": -540
    },
    "id": "shsQI82OLmnK",
    "outputId": "37d2f5c6-3875-4725-eb6f-86a928342187"
   },
   "outputs": [
    {
     "data": {
      "text/plain": [
       "['__add__',\n",
       " '__class__',\n",
       " '__contains__',\n",
       " '__delattr__',\n",
       " '__delitem__',\n",
       " '__dir__',\n",
       " '__doc__',\n",
       " '__eq__',\n",
       " '__format__',\n",
       " '__ge__',\n",
       " '__getattribute__',\n",
       " '__getitem__',\n",
       " '__gt__',\n",
       " '__hash__',\n",
       " '__iadd__',\n",
       " '__imul__',\n",
       " '__init__',\n",
       " '__init_subclass__',\n",
       " '__iter__',\n",
       " '__le__',\n",
       " '__len__',\n",
       " '__lt__',\n",
       " '__mul__',\n",
       " '__ne__',\n",
       " '__new__',\n",
       " '__reduce__',\n",
       " '__reduce_ex__',\n",
       " '__repr__',\n",
       " '__reversed__',\n",
       " '__rmul__',\n",
       " '__setattr__',\n",
       " '__setitem__',\n",
       " '__sizeof__',\n",
       " '__str__',\n",
       " '__subclasshook__',\n",
       " 'append',\n",
       " 'clear',\n",
       " 'copy',\n",
       " 'count',\n",
       " 'extend',\n",
       " 'index',\n",
       " 'insert',\n",
       " 'pop',\n",
       " 'remove',\n",
       " 'reverse',\n",
       " 'sort']"
      ]
     },
     "execution_count": 29,
     "metadata": {},
     "output_type": "execute_result"
    }
   ],
   "source": [
    "dir(lst)"
   ]
  },
  {
   "cell_type": "code",
   "execution_count": 30,
   "metadata": {
    "id": "CzD7BE2aLsnU"
   },
   "outputs": [],
   "source": [
    "lst.append(1)"
   ]
  },
  {
   "cell_type": "code",
   "execution_count": 31,
   "metadata": {
    "id": "bikf3qekL2gI"
   },
   "outputs": [],
   "source": [
    "lst.append([1,2])"
   ]
  },
  {
   "cell_type": "code",
   "execution_count": null,
   "metadata": {},
   "outputs": [],
   "source": []
  },
  {
   "cell_type": "code",
   "execution_count": 38,
   "metadata": {
    "id": "2hLH_A7xMXYs"
   },
   "outputs": [],
   "source": [
    "list_2 = [1,2,3,4,5]"
   ]
  },
  {
   "cell_type": "code",
   "execution_count": 39,
   "metadata": {
    "id": "NLDLYfgEMfJK"
   },
   "outputs": [],
   "source": [
    "list_2.reverse()"
   ]
  },
  {
   "cell_type": "code",
   "execution_count": 40,
   "metadata": {
    "colab": {
     "base_uri": "https://localhost:8080/"
    },
    "executionInfo": {
     "elapsed": 316,
     "status": "ok",
     "timestamp": 1647911821334,
     "user": {
      "displayName": "임광묵",
      "photoUrl": "https://lh3.googleusercontent.com/a/default-user=s64",
      "userId": "10775740267756613797"
     },
     "user_tz": -540
    },
    "id": "Emp1p0UzMkQ3",
    "outputId": "571eea63-92ab-4eb6-8eae-fea5b5bce7df"
   },
   "outputs": [
    {
     "data": {
      "text/plain": [
       "[5, 4, 3, 2, 1]"
      ]
     },
     "execution_count": 40,
     "metadata": {},
     "output_type": "execute_result"
    }
   ],
   "source": [
    "list_2"
   ]
  },
  {
   "cell_type": "code",
   "execution_count": 41,
   "metadata": {
    "colab": {
     "base_uri": "https://localhost:8080/"
    },
    "executionInfo": {
     "elapsed": 389,
     "status": "ok",
     "timestamp": 1647911863670,
     "user": {
      "displayName": "임광묵",
      "photoUrl": "https://lh3.googleusercontent.com/a/default-user=s64",
      "userId": "10775740267756613797"
     },
     "user_tz": -540
    },
    "id": "lV2JTNnIMzqT",
    "outputId": "50c1f37c-e4ce-45de-a16f-319c291a8241"
   },
   "outputs": [
    {
     "data": {
      "text/plain": [
       "0"
      ]
     },
     "execution_count": 41,
     "metadata": {},
     "output_type": "execute_result"
    }
   ],
   "source": [
    "list_2.index(5)"
   ]
  },
  {
   "cell_type": "code",
   "execution_count": null,
   "metadata": {
    "colab": {
     "base_uri": "https://localhost:8080/"
    },
    "executionInfo": {
     "elapsed": 326,
     "status": "ok",
     "timestamp": 1647911913897,
     "user": {
      "displayName": "임광묵",
      "photoUrl": "https://lh3.googleusercontent.com/a/default-user=s64",
      "userId": "10775740267756613797"
     },
     "user_tz": -540
    },
    "id": "s381KwntM8ui",
    "outputId": "48397e81-b716-4337-bbd7-99691282093f"
   },
   "outputs": [
    {
     "data": {
      "text/plain": [
       "1"
      ]
     },
     "execution_count": 19,
     "metadata": {},
     "output_type": "execute_result"
    }
   ],
   "source": [
    "list_2.pop(0)"
   ]
  },
  {
   "cell_type": "code",
   "execution_count": null,
   "metadata": {
    "colab": {
     "base_uri": "https://localhost:8080/"
    },
    "executionInfo": {
     "elapsed": 513,
     "status": "ok",
     "timestamp": 1647911929649,
     "user": {
      "displayName": "임광묵",
      "photoUrl": "https://lh3.googleusercontent.com/a/default-user=s64",
      "userId": "10775740267756613797"
     },
     "user_tz": -540
    },
    "id": "ENWGTpHzNGfm",
    "outputId": "c7d74686-f190-480a-dfc9-b206a7dcae99"
   },
   "outputs": [
    {
     "data": {
      "text/plain": [
       "[2, 3, 4, 5]"
      ]
     },
     "execution_count": 20,
     "metadata": {},
     "output_type": "execute_result"
    }
   ],
   "source": [
    "list_2"
   ]
  },
  {
   "cell_type": "markdown",
   "metadata": {
    "id": "Fd14BcWWJUpS"
   },
   "source": [
    "#### 배열(array)"
   ]
  },
  {
   "cell_type": "code",
   "execution_count": null,
   "metadata": {
    "colab": {
     "base_uri": "https://localhost:8080/"
    },
    "executionInfo": {
     "elapsed": 12,
     "status": "ok",
     "timestamp": 1647912468616,
     "user": {
      "displayName": "임광묵",
      "photoUrl": "https://lh3.googleusercontent.com/a/default-user=s64",
      "userId": "10775740267756613797"
     },
     "user_tz": -540
    },
    "id": "253nqU8KJU8g",
    "outputId": "52d90c37-edcb-41aa-dc88-8e6b76cf5bf8"
   },
   "outputs": [
    {
     "data": {
      "text/plain": [
       "array([[0., 0.],\n",
       "       [0., 0.]])"
      ]
     },
     "execution_count": 23,
     "metadata": {},
     "output_type": "execute_result"
    }
   ],
   "source": [
    "import numpy as np\n",
    "\n",
    "np.zeros((2,2))"
   ]
  },
  {
   "cell_type": "code",
   "execution_count": null,
   "metadata": {
    "id": "NYRScLYfPOMm"
   },
   "outputs": [],
   "source": [
    "list_3 = [1,2,3,4]"
   ]
  },
  {
   "cell_type": "code",
   "execution_count": null,
   "metadata": {
    "colab": {
     "base_uri": "https://localhost:8080/"
    },
    "executionInfo": {
     "elapsed": 15,
     "status": "ok",
     "timestamp": 1647912608236,
     "user": {
      "displayName": "임광묵",
      "photoUrl": "https://lh3.googleusercontent.com/a/default-user=s64",
      "userId": "10775740267756613797"
     },
     "user_tz": -540
    },
    "id": "fWtCpdBsPVyB",
    "outputId": "6bfe95bd-b936-4d82-e16f-0836f56030c2"
   },
   "outputs": [
    {
     "data": {
      "text/plain": [
       "['T',\n",
       " '__abs__',\n",
       " '__add__',\n",
       " '__and__',\n",
       " '__array__',\n",
       " '__array_finalize__',\n",
       " '__array_function__',\n",
       " '__array_interface__',\n",
       " '__array_prepare__',\n",
       " '__array_priority__',\n",
       " '__array_struct__',\n",
       " '__array_ufunc__',\n",
       " '__array_wrap__',\n",
       " '__bool__',\n",
       " '__class__',\n",
       " '__complex__',\n",
       " '__contains__',\n",
       " '__copy__',\n",
       " '__deepcopy__',\n",
       " '__delattr__',\n",
       " '__delitem__',\n",
       " '__dir__',\n",
       " '__divmod__',\n",
       " '__doc__',\n",
       " '__eq__',\n",
       " '__float__',\n",
       " '__floordiv__',\n",
       " '__format__',\n",
       " '__ge__',\n",
       " '__getattribute__',\n",
       " '__getitem__',\n",
       " '__gt__',\n",
       " '__hash__',\n",
       " '__iadd__',\n",
       " '__iand__',\n",
       " '__ifloordiv__',\n",
       " '__ilshift__',\n",
       " '__imatmul__',\n",
       " '__imod__',\n",
       " '__imul__',\n",
       " '__index__',\n",
       " '__init__',\n",
       " '__init_subclass__',\n",
       " '__int__',\n",
       " '__invert__',\n",
       " '__ior__',\n",
       " '__ipow__',\n",
       " '__irshift__',\n",
       " '__isub__',\n",
       " '__iter__',\n",
       " '__itruediv__',\n",
       " '__ixor__',\n",
       " '__le__',\n",
       " '__len__',\n",
       " '__lshift__',\n",
       " '__lt__',\n",
       " '__matmul__',\n",
       " '__mod__',\n",
       " '__mul__',\n",
       " '__ne__',\n",
       " '__neg__',\n",
       " '__new__',\n",
       " '__or__',\n",
       " '__pos__',\n",
       " '__pow__',\n",
       " '__radd__',\n",
       " '__rand__',\n",
       " '__rdivmod__',\n",
       " '__reduce__',\n",
       " '__reduce_ex__',\n",
       " '__repr__',\n",
       " '__rfloordiv__',\n",
       " '__rlshift__',\n",
       " '__rmatmul__',\n",
       " '__rmod__',\n",
       " '__rmul__',\n",
       " '__ror__',\n",
       " '__rpow__',\n",
       " '__rrshift__',\n",
       " '__rshift__',\n",
       " '__rsub__',\n",
       " '__rtruediv__',\n",
       " '__rxor__',\n",
       " '__setattr__',\n",
       " '__setitem__',\n",
       " '__setstate__',\n",
       " '__sizeof__',\n",
       " '__str__',\n",
       " '__sub__',\n",
       " '__subclasshook__',\n",
       " '__truediv__',\n",
       " '__xor__',\n",
       " 'all',\n",
       " 'any',\n",
       " 'argmax',\n",
       " 'argmin',\n",
       " 'argpartition',\n",
       " 'argsort',\n",
       " 'astype',\n",
       " 'base',\n",
       " 'byteswap',\n",
       " 'choose',\n",
       " 'clip',\n",
       " 'compress',\n",
       " 'conj',\n",
       " 'conjugate',\n",
       " 'copy',\n",
       " 'ctypes',\n",
       " 'cumprod',\n",
       " 'cumsum',\n",
       " 'data',\n",
       " 'diagonal',\n",
       " 'dot',\n",
       " 'dtype',\n",
       " 'dump',\n",
       " 'dumps',\n",
       " 'fill',\n",
       " 'flags',\n",
       " 'flat',\n",
       " 'flatten',\n",
       " 'getfield',\n",
       " 'imag',\n",
       " 'item',\n",
       " 'itemset',\n",
       " 'itemsize',\n",
       " 'max',\n",
       " 'mean',\n",
       " 'min',\n",
       " 'nbytes',\n",
       " 'ndim',\n",
       " 'newbyteorder',\n",
       " 'nonzero',\n",
       " 'partition',\n",
       " 'prod',\n",
       " 'ptp',\n",
       " 'put',\n",
       " 'ravel',\n",
       " 'real',\n",
       " 'repeat',\n",
       " 'reshape',\n",
       " 'resize',\n",
       " 'round',\n",
       " 'searchsorted',\n",
       " 'setfield',\n",
       " 'setflags',\n",
       " 'shape',\n",
       " 'size',\n",
       " 'sort',\n",
       " 'squeeze',\n",
       " 'std',\n",
       " 'strides',\n",
       " 'sum',\n",
       " 'swapaxes',\n",
       " 'take',\n",
       " 'tobytes',\n",
       " 'tofile',\n",
       " 'tolist',\n",
       " 'tostring',\n",
       " 'trace',\n",
       " 'transpose',\n",
       " 'var',\n",
       " 'view']"
      ]
     },
     "execution_count": 26,
     "metadata": {},
     "output_type": "execute_result"
    }
   ],
   "source": [
    "dir(np.array(list_3))"
   ]
  },
  {
   "cell_type": "code",
   "execution_count": null,
   "metadata": {
    "colab": {
     "base_uri": "https://localhost:8080/"
    },
    "executionInfo": {
     "elapsed": 9,
     "status": "ok",
     "timestamp": 1647912685090,
     "user": {
      "displayName": "임광묵",
      "photoUrl": "https://lh3.googleusercontent.com/a/default-user=s64",
      "userId": "10775740267756613797"
     },
     "user_tz": -540
    },
    "id": "YgdfTU2oPw_q",
    "outputId": "4013e8d3-ee18-4dad-d8f6-465182a06649"
   },
   "outputs": [
    {
     "data": {
      "text/plain": [
       "1"
      ]
     },
     "execution_count": 29,
     "metadata": {},
     "output_type": "execute_result"
    }
   ],
   "source": [
    "np.array(list_3).ndim"
   ]
  },
  {
   "cell_type": "code",
   "execution_count": null,
   "metadata": {
    "colab": {
     "base_uri": "https://localhost:8080/"
    },
    "executionInfo": {
     "elapsed": 7,
     "status": "ok",
     "timestamp": 1647912893722,
     "user": {
      "displayName": "임광묵",
      "photoUrl": "https://lh3.googleusercontent.com/a/default-user=s64",
      "userId": "10775740267756613797"
     },
     "user_tz": -540
    },
    "id": "3CSIJvE9QG4E",
    "outputId": "4c76b0b6-21c3-4cdd-9f87-cbd220afeb4a"
   },
   "outputs": [
    {
     "data": {
      "text/plain": [
       "(3, 3)"
      ]
     },
     "execution_count": 39,
     "metadata": {},
     "output_type": "execute_result"
    }
   ],
   "source": [
    "np.zeros((3,3)).shape"
   ]
  },
  {
   "cell_type": "code",
   "execution_count": null,
   "metadata": {
    "colab": {
     "base_uri": "https://localhost:8080/"
    },
    "executionInfo": {
     "elapsed": 6,
     "status": "ok",
     "timestamp": 1647912763517,
     "user": {
      "displayName": "임광묵",
      "photoUrl": "https://lh3.googleusercontent.com/a/default-user=s64",
      "userId": "10775740267756613797"
     },
     "user_tz": -540
    },
    "id": "5H1ng_nPQNXQ",
    "outputId": "895f90c8-7722-42cb-e329-c522d243a566"
   },
   "outputs": [
    {
     "data": {
      "text/plain": [
       "3"
      ]
     },
     "execution_count": 35,
     "metadata": {},
     "output_type": "execute_result"
    }
   ],
   "source": [
    "np.zeros((3,3,3)).ndim"
   ]
  },
  {
   "cell_type": "code",
   "execution_count": null,
   "metadata": {
    "id": "1Z1aWfh6Qfdr"
   },
   "outputs": [],
   "source": [
    "arr1 = np.array(list_3)"
   ]
  },
  {
   "cell_type": "code",
   "execution_count": null,
   "metadata": {
    "colab": {
     "base_uri": "https://localhost:8080/"
    },
    "executionInfo": {
     "elapsed": 3,
     "status": "ok",
     "timestamp": 1647912862026,
     "user": {
      "displayName": "임광묵",
      "photoUrl": "https://lh3.googleusercontent.com/a/default-user=s64",
      "userId": "10775740267756613797"
     },
     "user_tz": -540
    },
    "id": "cxeDLKibQqiC",
    "outputId": "92387628-ab40-43bc-94b7-e7940c03d184"
   },
   "outputs": [
    {
     "data": {
      "text/plain": [
       "(4,)"
      ]
     },
     "execution_count": 37,
     "metadata": {},
     "output_type": "execute_result"
    }
   ],
   "source": [
    "arr1.shape"
   ]
  },
  {
   "cell_type": "markdown",
   "metadata": {
    "id": "r1E7ho3Vyl5m"
   },
   "source": [
    "# 1.5 기타 제어 흐름 도구"
   ]
  },
  {
   "cell_type": "markdown",
   "metadata": {
    "id": "Vo5tylAhyoVy"
   },
   "source": [
    "#### if문"
   ]
  },
  {
   "cell_type": "code",
   "execution_count": null,
   "metadata": {
    "colab": {
     "base_uri": "https://localhost:8080/"
    },
    "executionInfo": {
     "elapsed": 11257,
     "status": "ok",
     "timestamp": 1647914583014,
     "user": {
      "displayName": "임광묵",
      "photoUrl": "https://lh3.googleusercontent.com/a/default-user=s64",
      "userId": "10775740267756613797"
     },
     "user_tz": -540
    },
    "id": "JkD1AsGKJuYD",
    "outputId": "327fd44c-4877-4e82-fe15-6be3c0493520"
   },
   "outputs": [
    {
     "name": "stdout",
     "output_type": "stream",
     "text": [
      "점수를 입력해 주세요(1~100) :  85\n"
     ]
    }
   ],
   "source": [
    "score = int(input(\"점수를 입력해 주세요(1~100) :  \"))"
   ]
  },
  {
   "cell_type": "code",
   "execution_count": null,
   "metadata": {
    "colab": {
     "base_uri": "https://localhost:8080/"
    },
    "executionInfo": {
     "elapsed": 395,
     "status": "ok",
     "timestamp": 1647914624555,
     "user": {
      "displayName": "임광묵",
      "photoUrl": "https://lh3.googleusercontent.com/a/default-user=s64",
      "userId": "10775740267756613797"
     },
     "user_tz": -540
    },
    "id": "GEbaUP7TS_8Y",
    "outputId": "e97760d0-8e04-4da7-aa00-639ef138768f"
   },
   "outputs": [
    {
     "name": "stdout",
     "output_type": "stream",
     "text": [
      "B등급\n"
     ]
    }
   ],
   "source": [
    "if score >= 90:\n",
    "  print(\"A등급\")\n",
    "elif score >= 80 and score <90:\n",
    "  print(\"B등급\")\n",
    "elif score >= 70 and score < 80:\n",
    "  print(\"C등급\")\n",
    "else:\n",
    "  print(\"D등급\")"
   ]
  },
  {
   "cell_type": "markdown",
   "metadata": {
    "id": "BGmCnvzeJuhh"
   },
   "source": [
    "#### for문 "
   ]
  },
  {
   "cell_type": "code",
   "execution_count": null,
   "metadata": {
    "colab": {
     "base_uri": "https://localhost:8080/"
    },
    "executionInfo": {
     "elapsed": 322,
     "status": "ok",
     "timestamp": 1647913802773,
     "user": {
      "displayName": "임광묵",
      "photoUrl": "https://lh3.googleusercontent.com/a/default-user=s64",
      "userId": "10775740267756613797"
     },
     "user_tz": -540
    },
    "id": "jIdc-51iJuoN",
    "outputId": "2579aa5b-7279-41c4-e6fd-ded811b91ccb"
   },
   "outputs": [
    {
     "name": "stdout",
     "output_type": "stream",
     "text": [
      "55\n"
     ]
    }
   ],
   "source": [
    "cnt= 0\n",
    "for i in range(11):\n",
    "  cnt+=i #cnt = cnt +i\n",
    "print(cnt)"
   ]
  },
  {
   "cell_type": "markdown",
   "metadata": {
    "id": "Xzmz3yZSJuu1"
   },
   "source": [
    "#### while문"
   ]
  },
  {
   "cell_type": "code",
   "execution_count": null,
   "metadata": {
    "colab": {
     "base_uri": "https://localhost:8080/"
    },
    "executionInfo": {
     "elapsed": 4,
     "status": "ok",
     "timestamp": 1647913952796,
     "user": {
      "displayName": "임광묵",
      "photoUrl": "https://lh3.googleusercontent.com/a/default-user=s64",
      "userId": "10775740267756613797"
     },
     "user_tz": -540
    },
    "id": "Cqk5GNYRBJRv",
    "outputId": "fce41d7b-b8ee-4304-a495-e75b9a90b2d0"
   },
   "outputs": [
    {
     "name": "stdout",
     "output_type": "stream",
     "text": [
      "55\n"
     ]
    }
   ],
   "source": [
    "cnt = 0\n",
    "i= 1\n",
    "while i <11:\n",
    "  cnt+=i #cnt =cnt+i\n",
    "  i = i+1\n",
    "print(cnt)"
   ]
  },
  {
   "cell_type": "markdown",
   "metadata": {
    "id": "12fUdEkPDZYL"
   },
   "source": [
    "## 1.6 함수 정의하기"
   ]
  },
  {
   "cell_type": "code",
   "execution_count": null,
   "metadata": {
    "id": "1BW5tyNhDkkq"
   },
   "outputs": [],
   "source": [
    "def plus(A,B):\n",
    "  print(A+B)"
   ]
  },
  {
   "cell_type": "code",
   "execution_count": null,
   "metadata": {
    "colab": {
     "base_uri": "https://localhost:8080/"
    },
    "executionInfo": {
     "elapsed": 11,
     "status": "ok",
     "timestamp": 1647916606505,
     "user": {
      "displayName": "임광묵",
      "photoUrl": "https://lh3.googleusercontent.com/a/default-user=s64",
      "userId": "10775740267756613797"
     },
     "user_tz": -540
    },
    "id": "s9h0n18ie3fG",
    "outputId": "5ee5a397-ed73-4239-b1e3-b31732a056d0"
   },
   "outputs": [
    {
     "name": "stdout",
     "output_type": "stream",
     "text": [
      "3\n"
     ]
    }
   ],
   "source": [
    "plus(1,2)"
   ]
  },
  {
   "cell_type": "code",
   "execution_count": null,
   "metadata": {
    "id": "DAtRWoDse99Z"
   },
   "outputs": [],
   "source": [
    "def minus(A,B):\n",
    "  print(A-B)"
   ]
  },
  {
   "cell_type": "code",
   "execution_count": null,
   "metadata": {
    "colab": {
     "base_uri": "https://localhost:8080/"
    },
    "executionInfo": {
     "elapsed": 301,
     "status": "ok",
     "timestamp": 1647916680566,
     "user": {
      "displayName": "임광묵",
      "photoUrl": "https://lh3.googleusercontent.com/a/default-user=s64",
      "userId": "10775740267756613797"
     },
     "user_tz": -540
    },
    "id": "b0aJCpPRfHv1",
    "outputId": "8f139c4d-359f-4454-84d6-d2f3fb930f06"
   },
   "outputs": [
    {
     "name": "stdout",
     "output_type": "stream",
     "text": [
      "1\n"
     ]
    }
   ],
   "source": [
    "minus(2,1)"
   ]
  }
 ],
 "metadata": {
  "colab": {
   "authorship_tag": "ABX9TyO/61t1Gu65i/MvrrHxunJR",
   "provenance": []
  },
  "kernelspec": {
   "display_name": "Python 3",
   "language": "python",
   "name": "python3"
  },
  "language_info": {
   "codemirror_mode": {
    "name": "ipython",
    "version": 3
   },
   "file_extension": ".py",
   "mimetype": "text/x-python",
   "name": "python",
   "nbconvert_exporter": "python",
   "pygments_lexer": "ipython3",
   "version": "3.7.10"
  }
 },
 "nbformat": 4,
 "nbformat_minor": 1
}
