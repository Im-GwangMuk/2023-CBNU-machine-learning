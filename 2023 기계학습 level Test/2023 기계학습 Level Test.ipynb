{
 "cells": [
  {
   "cell_type": "markdown",
   "id": "prospective-conviction",
   "metadata": {},
   "source": [
    "# 2023 기계학습 Level Test"
   ]
  },
  {
   "cell_type": "markdown",
   "id": "original-productivity",
   "metadata": {},
   "source": [
    " "
   ]
  },
  {
   "cell_type": "markdown",
   "id": "floral-papua",
   "metadata": {},
   "source": [
    "## 1. 파이썬 프로그램을 이용하여 데이터분석을 진행할 때, 난이도는 어떠한가요?"
   ]
  },
  {
   "attachments": {
    "image-2.png": {
     "image/png": "[encoded data removed]"
    }
   },
   "cell_type": "markdown",
   "id": "guided-gates",
   "metadata": {},
   "source": [
    "![image-2.png](attachment:image-2.png)"
   ]
  },
  {
   "cell_type": "markdown",
   "id": "monthly-anchor",
   "metadata": {},
   "source": [
    "## 2. 사용할 수 있는 라이브러리를 모두 체크 하시오."
   ]
  },
  {
   "attachments": {
    "image.png": {
     "image/png": "[encoded data removed]"
    }
   },
   "cell_type": "markdown",
   "id": "sharing-population",
   "metadata": {},
   "source": [
    "![image.png](attachment:image.png)"
   ]
  },
  {
   "cell_type": "markdown",
   "id": "complicated-lingerie",
   "metadata": {},
   "source": [
    "### 2-1. 아래와 같은 결과가 출력이 가능하도록 빈칸(_____)을 채우시오."
   ]
  },
  {
   "cell_type": "code",
   "execution_count": 1,
   "id": "secure-charge",
   "metadata": {},
   "outputs": [
    {
     "name": "stdout",
     "output_type": "stream",
     "text": [
      "안녕하세요 기계학습 실습 조교를 맡게된 석사과정 임광묵 입니다.\n",
      "질문사항은 imgm3452@naver.com로 보내주시거나 010-0000-0000로 연락주세요.\n",
      "한 학기 동안 잘 부탁드립니다.\n"
     ]
    }
   ],
   "source": [
    "class DataAnalyst:\n",
    "    def __init__(self):\n",
    "        self.subject = \"기계학습\"\n",
    "        self.name = \"임광묵\"\n",
    "        self.mail = \"imgm3452@naver.com\"\n",
    "        self.cell_phone_number = \"010-0000-0000\"\n",
    "        \n",
    "    def say_hi(self):\n",
    "        print(f'안녕하세요 {self.subject} 실습 조교를 맡게된 석사과정 {self.name} 입니다.')\n",
    "        print(f'질문사항은 {self.mail}로 보내주시거나 {self.cell_phone_number}로 연락주세요.')\n",
    "        print(\"한 학기 동안 잘 부탁드립니다.\")\n",
    "        \n",
    "me = DataAnalyst()\n",
    "me.say_hi()"
   ]
  },
  {
   "cell_type": "markdown",
   "id": "hazardous-brother",
   "metadata": {},
   "source": [
    "### 2-2. 2에서 자신이 체크한 라이브러리에 해당하는 빈칸(________)을 채우시오."
   ]
  },
  {
   "cell_type": "code",
   "execution_count": 2,
   "id": "sacred-demonstration",
   "metadata": {},
   "outputs": [],
   "source": [
    "from sklearn.datasets import load_iris\n",
    "import pandas as pd\n",
    "import numpy as np\n",
    "import matplotlib.pyplot as plt\n",
    "import seaborn as sns\n",
    "from imblearn.over_sampling import BorderlineSMOTE\n",
    "from sklearn.model_selection import train_test_split"
   ]
  },
  {
   "cell_type": "markdown",
   "id": "bridal-feedback",
   "metadata": {},
   "source": [
    "#### Numpy "
   ]
  },
  {
   "cell_type": "code",
   "execution_count": 3,
   "id": "statistical-interview",
   "metadata": {},
   "outputs": [
    {
     "name": "stdout",
     "output_type": "stream",
     "text": [
      "[0, 1, 2, 3, 4, 5, 6, 7, 8, 9]\n"
     ]
    }
   ],
   "source": [
    "lst  = list(range(10))\n",
    "print(lst)"
   ]
  },
  {
   "cell_type": "code",
   "execution_count": 4,
   "id": "colonial-breakfast",
   "metadata": {},
   "outputs": [
    {
     "name": "stdout",
     "output_type": "stream",
     "text": [
      "[0 1 2 3 4 5 6 7 8 9]\n"
     ]
    }
   ],
   "source": [
    "arr = np.array(lst)\n",
    "print(arr)  ### numpy"
   ]
  },
  {
   "cell_type": "markdown",
   "id": "agricultural-ordinary",
   "metadata": {},
   "source": [
    "#### Pandas"
   ]
  },
  {
   "cell_type": "code",
   "execution_count": 5,
   "id": "center-memorabilia",
   "metadata": {},
   "outputs": [],
   "source": [
    "iris = load_iris()"
   ]
  },
  {
   "cell_type": "code",
   "execution_count": 6,
   "id": "domestic-execution",
   "metadata": {},
   "outputs": [
    {
     "name": "stdout",
     "output_type": "stream",
     "text": [
      "[[5.1 3.5 1.4 0.2]\n",
      " [4.9 3.  1.4 0.2]\n",
      " [4.7 3.2 1.3 0.2]\n",
      " [4.6 3.1 1.5 0.2]\n",
      " [5.  3.6 1.4 0.2]]\n"
     ]
    }
   ],
   "source": [
    "print(iris.data[:5])"
   ]
  },
  {
   "cell_type": "code",
   "execution_count": 7,
   "id": "original-schema",
   "metadata": {},
   "outputs": [
    {
     "name": "stdout",
     "output_type": "stream",
     "text": [
      "(150, 4)\n"
     ]
    }
   ],
   "source": [
    "print(iris.data.shape)"
   ]
  },
  {
   "cell_type": "code",
   "execution_count": 8,
   "id": "competent-semester",
   "metadata": {},
   "outputs": [],
   "source": [
    "df = pd.DataFrame(data=iris.data,columns=iris.feature_names) ## pandas\n",
    "df['target'] = iris.target\n",
    "df['target'] = df['target'].map({0:\"setosa\",1:\"versicolor\",2:\"virginica\"})"
   ]
  },
  {
   "cell_type": "code",
   "execution_count": 9,
   "id": "fuzzy-finnish",
   "metadata": {},
   "outputs": [
    {
     "data": {
      "text/html": [
       "<div>\n",
       "<style scoped>\n",
       "    .dataframe tbody tr th:only-of-type {\n",
       "        vertical-align: middle;\n",
       "    }\n",
       "\n",
       "    .dataframe tbody tr th {\n",
       "        vertical-align: top;\n",
       "    }\n",
       "\n",
       "    .dataframe thead th {\n",
       "        text-align: right;\n",
       "    }\n",
       "</style>\n",
       "<table border=\"1\" class=\"dataframe\">\n",
       "  <thead>\n",
       "    <tr style=\"text-align: right;\">\n",
       "      <th></th>\n",
       "      <th>sepal length (cm)</th>\n",
       "      <th>sepal width (cm)</th>\n",
       "      <th>petal length (cm)</th>\n",
       "      <th>petal width (cm)</th>\n",
       "      <th>target</th>\n",
       "    </tr>\n",
       "  </thead>\n",
       "  <tbody>\n",
       "    <tr>\n",
       "      <th>0</th>\n",
       "      <td>5.1</td>\n",
       "      <td>3.5</td>\n",
       "      <td>1.4</td>\n",
       "      <td>0.2</td>\n",
       "      <td>setosa</td>\n",
       "    </tr>\n",
       "    <tr>\n",
       "      <th>1</th>\n",
       "      <td>4.9</td>\n",
       "      <td>3.0</td>\n",
       "      <td>1.4</td>\n",
       "      <td>0.2</td>\n",
       "      <td>setosa</td>\n",
       "    </tr>\n",
       "    <tr>\n",
       "      <th>2</th>\n",
       "      <td>4.7</td>\n",
       "      <td>3.2</td>\n",
       "      <td>1.3</td>\n",
       "      <td>0.2</td>\n",
       "      <td>setosa</td>\n",
       "    </tr>\n",
       "    <tr>\n",
       "      <th>3</th>\n",
       "      <td>4.6</td>\n",
       "      <td>3.1</td>\n",
       "      <td>1.5</td>\n",
       "      <td>0.2</td>\n",
       "      <td>setosa</td>\n",
       "    </tr>\n",
       "    <tr>\n",
       "      <th>4</th>\n",
       "      <td>5.0</td>\n",
       "      <td>3.6</td>\n",
       "      <td>1.4</td>\n",
       "      <td>0.2</td>\n",
       "      <td>setosa</td>\n",
       "    </tr>\n",
       "  </tbody>\n",
       "</table>\n",
       "</div>"
      ],
      "text/plain": [
       "   sepal length (cm)  sepal width (cm)  petal length (cm)  petal width (cm)  \\\n",
       "0                5.1               3.5                1.4               0.2   \n",
       "1                4.9               3.0                1.4               0.2   \n",
       "2                4.7               3.2                1.3               0.2   \n",
       "3                4.6               3.1                1.5               0.2   \n",
       "4                5.0               3.6                1.4               0.2   \n",
       "\n",
       "   target  \n",
       "0  setosa  \n",
       "1  setosa  \n",
       "2  setosa  \n",
       "3  setosa  \n",
       "4  setosa  "
      ]
     },
     "execution_count": 9,
     "metadata": {},
     "output_type": "execute_result"
    }
   ],
   "source": [
    "df.head()"
   ]
  },
  {
   "cell_type": "markdown",
   "id": "stock-warner",
   "metadata": {},
   "source": [
    "#### Seaborn"
   ]
  },
  {
   "cell_type": "code",
   "execution_count": 10,
   "id": "blessed-rainbow",
   "metadata": {
    "scrolled": true
   },
   "outputs": [
    {
     "name": "stderr",
     "output_type": "stream",
     "text": [
      "/opt/conda/lib/python3.7/site-packages/seaborn/_decorators.py:43: FutureWarning: Pass the following variable as a keyword arg: x. From version 0.12, the only valid positional argument will be `data`, and passing other arguments without an explicit keyword will result in an error or misinterpretation.\n",
      "  FutureWarning\n"
     ]
    },
    {
     "data": {
      "image/png": "[encoded data removed]",
      "text/plain": [
       "<Figure size 432x288 with 1 Axes>"
      ]
     },
     "metadata": {
      "needs_background": "light"
     },
     "output_type": "display_data"
    }
   ],
   "source": [
    "sns.countplot(df.target) ### Seaborn\n",
    "plt.show()"
   ]
  },
  {
   "cell_type": "markdown",
   "id": "continent-brown",
   "metadata": {},
   "source": [
    "#### Matplotlib"
   ]
  },
  {
   "cell_type": "code",
   "execution_count": 11,
   "id": "special-manual",
   "metadata": {},
   "outputs": [
    {
     "data": {
      "image/png": "[encoded data removed]",
      "text/plain": [
       "<Figure size 432x288 with 1 Axes>"
      ]
     },
     "metadata": {
      "needs_background": "light"
     },
     "output_type": "display_data"
    }
   ],
   "source": [
    "plt.plot(df[\"sepal length (cm)\"],\"bo\")\n",
    "plt.title(\"sepal length (cm)\") ### matplotlib\n",
    "plt.xlabel(\"index\")\n",
    "plt.ylabel(\"(cm)\")\n",
    "plt.show()"
   ]
  },
  {
   "cell_type": "markdown",
   "id": "gentle-princess",
   "metadata": {},
   "source": [
    "#### imblearn"
   ]
  },
  {
   "cell_type": "code",
   "execution_count": 12,
   "id": "alpha-jones",
   "metadata": {},
   "outputs": [],
   "source": [
    "df = df.iloc[30:130,:].reset_index(drop=True)"
   ]
  },
  {
   "cell_type": "code",
   "execution_count": 13,
   "id": "executive-chambers",
   "metadata": {},
   "outputs": [],
   "source": [
    "X = df.drop(columns = \"target\")\n",
    "y = df[\"target\"]"
   ]
  },
  {
   "cell_type": "code",
   "execution_count": 14,
   "id": "preceding-fifty",
   "metadata": {},
   "outputs": [],
   "source": [
    "sm = BorderlineSMOTE(random_state=42)\n",
    "X_over, y_over = sm.fit_resample(X,y)### imblearn"
   ]
  },
  {
   "cell_type": "code",
   "execution_count": 15,
   "id": "terminal-charleston",
   "metadata": {
    "scrolled": true
   },
   "outputs": [
    {
     "name": "stdout",
     "output_type": "stream",
     "text": [
      "(120, 4)\n",
      "(120,)\n"
     ]
    }
   ],
   "source": [
    "print(X_over.shape); print(y_over.shape)"
   ]
  },
  {
   "cell_type": "markdown",
   "id": "toxic-seminar",
   "metadata": {},
   "source": [
    "#### sklearn"
   ]
  },
  {
   "cell_type": "code",
   "execution_count": 16,
   "id": "independent-invite",
   "metadata": {},
   "outputs": [],
   "source": [
    "new_df=pd.concat([X_over,y_over],axis=1)\n",
    "train_df, val_df = train_test_split(new_df,test_size = 0.1, stratify=new_df[\"target\"])"
   ]
  },
  {
   "cell_type": "code",
   "execution_count": 17,
   "id": "relative-compression",
   "metadata": {},
   "outputs": [
    {
     "name": "stdout",
     "output_type": "stream",
     "text": [
      "(12, 5)\n"
     ]
    }
   ],
   "source": [
    "print(val_df.shape) ##sklearn"
   ]
  },
  {
   "cell_type": "markdown",
   "id": "common-century",
   "metadata": {},
   "source": [
    "#### torch"
   ]
  },
  {
   "cell_type": "code",
   "execution_count": 18,
   "id": "least-austin",
   "metadata": {},
   "outputs": [],
   "source": [
    "import torch"
   ]
  },
  {
   "cell_type": "code",
   "execution_count": 19,
   "id": "abstract-provincial",
   "metadata": {},
   "outputs": [],
   "source": [
    "a = np.array([1,2,3,4])\n",
    "b = torch.Tensor(a)"
   ]
  },
  {
   "cell_type": "code",
   "execution_count": 20,
   "id": "future-enterprise",
   "metadata": {},
   "outputs": [
    {
     "name": "stdout",
     "output_type": "stream",
     "text": [
      "tensor([1., 2., 3., 4.])\n"
     ]
    }
   ],
   "source": [
    "print(b)"
   ]
  },
  {
   "cell_type": "markdown",
   "id": "freelance-invite",
   "metadata": {},
   "source": [
    "#### tensor"
   ]
  },
  {
   "cell_type": "code",
   "execution_count": 21,
   "id": "other-program",
   "metadata": {},
   "outputs": [],
   "source": [
    "import tensorflow as tf"
   ]
  },
  {
   "cell_type": "code",
   "execution_count": 22,
   "id": "valid-organizer",
   "metadata": {},
   "outputs": [
    {
     "name": "stdout",
     "output_type": "stream",
     "text": [
      "tf.Tensor([[1 2 3 4]], shape=(1, 4), dtype=int32)\n"
     ]
    }
   ],
   "source": [
    "tensor = tf.constant([[1,2,3,4]])\n",
    "print(tensor)"
   ]
  },
  {
   "cell_type": "markdown",
   "id": "changed-running",
   "metadata": {},
   "source": [
    "## 3. 한 학기 동안 실습시간을 통해 배우고 싶은 내용이 있다면 무엇인가요?"
   ]
  },
  {
   "cell_type": "markdown",
   "id": "recovered-adams",
   "metadata": {},
   "source": [
    " "
   ]
  }
 ],
 "metadata": {
  "kernelspec": {
   "display_name": "Python 3",
   "language": "python",
   "name": "python3"
  },
  "language_info": {
   "codemirror_mode": {
    "name": "ipython",
    "version": 3
   },
   "file_extension": ".py",
   "mimetype": "text/x-python",
   "name": "python",
   "nbconvert_exporter": "python",
   "pygments_lexer": "ipython3",
   "version": "3.7.10"
  }
 },
 "nbformat": 4,
 "nbformat_minor": 5
}
